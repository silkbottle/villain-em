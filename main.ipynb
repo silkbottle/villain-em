{
 "cells": [
  {
   "cell_type": "code",
   "execution_count": 19,
   "metadata": {
    "collapsed": false
   },
   "outputs": [],
   "source": [
    "import numpy as np\n",
    "import matplotlib.pyplot as plt\n",
    "from PIL import Image\n",
    "%matplotlib inline\n",
    "\n",
    "# Camera data\n",
    "path = \"CameraData.npy\"\n",
    "raw_data = np.load(path) \n",
    "images = [raw_data[:,:,k] for k in xrange(raw_data.shape[2])] # Images are in the list"
   ]
  },
  {
   "cell_type": "code",
   "execution_count": 32,
   "metadata": {
    "collapsed": false
   },
   "outputs": [],
   "source": [
    "def show(data, size=(11,16)):\n",
    "    # Show photo\n",
    "    plt.figure(figsize=size)\n",
    "    plt.imshow(data, cmap='gray')\n",
    "    plt.show()\n",
    "    \n",
    "    \n",
    "# normalize the image matrix\n",
    "def toUINT(data):\n",
    "    data-=data.min()\n",
    "    data = 255.0*data/data.max()\n",
    "    return data.astype(np.uint8)\n",
    "    \n",
    "\n",
    "def rgb2gray(img):\n",
    "    if not isinstance(img, np.ndarray):\n",
    "        img = np.array(img)\n",
    "    if np.atleast_3d(img).shape[2] == 1:\n",
    "        return toUINT(img)\n",
    "    R = img[:,:,0]\n",
    "    G = img[:,:,1]\n",
    "    B = img[:,:,2]\n",
    "    gray = 0.2126*R + 0.7152*G + 0.0722*B\n",
    "    return toUINT(gray)\n",
    "\n",
    "def resize(image, size):\n",
    "    img = Image.fromarray(image)\n",
    "    img = img.resize(size, Image.ANTIALIAS)\n",
    "    img = np.array(img)\n",
    "    return toUINT(img)"
   ]
  },
  {
   "cell_type": "markdown",
   "metadata": {
    "collapsed": false
   },
   "source": [
    "## Find pic in pic"
   ]
  },
  {
   "cell_type": "code",
   "execution_count": 37,
   "metadata": {
    "collapsed": false
   },
   "outputs": [],
   "source": [
    "def positions(big_size, small_size):\n",
    "    # positions of top left corner\n",
    "    W, H = big_size\n",
    "    w, h = small_size\n",
    "    if w>W or h>H:\n",
    "        return\n",
    "    positions = []\n",
    "    "
   ]
  },
  {
   "cell_type": "code",
   "execution_count": null,
   "metadata": {
    "collapsed": true
   },
   "outputs": [],
   "source": []
  }
 ],
 "metadata": {
  "kernelspec": {
   "display_name": "Python 2",
   "language": "python",
   "name": "python2"
  },
  "language_info": {
   "codemirror_mode": {
    "name": "ipython",
    "version": 2
   },
   "file_extension": ".py",
   "mimetype": "text/x-python",
   "name": "python",
   "nbconvert_exporter": "python",
   "pygments_lexer": "ipython2",
   "version": "2.7.11"
  }
 },
 "nbformat": 4,
 "nbformat_minor": 0
}
